{
 "cells": [
  {
   "cell_type": "markdown",
   "metadata": {},
   "source": [
    "## 2.1 Partial Differential Equation (PDE)"
   ]
  },
  {
   "cell_type": "markdown",
   "metadata": {
    "collapsed": true
   },
   "source": [
    "In previous lectures, we learn about solving the differential equations when the functions depend on exactly one variable, i.e. $x$ or $t$. However, the real physical phenomenon may involve more than one variables in the form of partial differential equations. For examples, wave equation, Schrodinger's equation, heat transfer, diffusion, electromanetism, etc. Let's use an example of wave in a string."
   ]
  },
  {
   "cell_type": "markdown",
   "metadata": {},
   "source": [
    "___\n",
    "### 2.1.1 Finite Difference Equations\n",
    "\n",
    "From the wave course, we know that the wave equation in string is given by:\n",
    "\n",
    "$$\\frac{{{\\partial ^2}u}}{{\\partial {t^2}}} = \\frac{T}{\\mu }\\frac{{{\\partial ^2}u}}{{\\partial {x^2}}}$$\n",
    "\n",
    "where $T$ and $\\mu$ are tension and mass density respectively and $u = u(x, t)$ is the wave function, i.e. displacement of wave as function of position and time."
   ]
  },
  {
   "cell_type": "markdown",
   "metadata": {
    "collapsed": true
   },
   "source": [
    "The second derivative can be approximated by\n",
    "\n",
    "$$\\frac{{{d^2}f(x)}}{{d{x^2}}} = \\frac{{f(x + h) - 2f(x) + f(x - h)}}{{{h^2}}} + O({h^3})$$\n"
   ]
  },
  {
   "cell_type": "markdown",
   "metadata": {},
   "source": [
    "In two dimensions of $(x,t)$, we impose a rectangular grid in space and time such that\n",
    "\n",
    "$$\\begin{array}{l}\n",
    "{x_i} = ih\\\\\n",
    "{t_j} = j\\delta \n",
    "\\end{array}$$\n",
    "\n",
    "where $i = 0, 1, 2, ..., N$ and $j = 0, 1, 2, ..., M$"
   ]
  },
  {
   "cell_type": "markdown",
   "metadata": {},
   "source": [
    "In the finite difference approximation to the wave equation is then:\n",
    "\n",
    "$$\\frac{{{\\partial ^2}u}}{{\\partial {t^2}}} \\approx \\frac{{{u_{i,j + 1}} - 2{u_{i,j}} + {u_{i,j - 1}}}}{{{\\delta ^2}}}$$"
   ]
  },
  {
   "cell_type": "markdown",
   "metadata": {},
   "source": [
    "$$\\frac{{{\\partial ^2}u}}{{\\partial {x^2}}} \\approx \\frac{{{u_{i + 1,j}} - 2{u_{i,j}} + {u_{i - 1,j}}}}{{{h^2}}}$$"
   ]
  },
  {
   "cell_type": "markdown",
   "metadata": {},
   "source": [
    "Substitue these approximation into the wave equation, we have\n",
    "\n",
    "$$\\frac{{{u_{i,j + 1}} - 2{u_{i,j}} + {u_{i,j - 1}}}}{{{\\delta ^2}}} = {c^2}\\frac{{{u_{i + 1,j}} - 2{u_{i,j}} + {u_{i - 1,j}}}}{{{h^2}}}$$\n",
    "\n",
    "where $c^2 = T/\\mu$, and $c$ is the speed of the wave in string."
   ]
  },
  {
   "cell_type": "markdown",
   "metadata": {
    "collapsed": true
   },
   "source": [
    "If the condition for $u(x, t=0)$ is known, then it is useful to solve for ${{u_{i,j + 1}}}$. Therefore, we will rearrange the equation above to make ${{u_{i,j + 1}}}$ a subject.\n",
    "\n",
    "$${u_{i,j + 1}} = \\frac{{{\\delta ^2}{c^2}}}{{{h^2}}}\\left( {{u_{i + 1,j}} + {u_{i - 1,j}}} \\right) + 2\\left( {1 - \\frac{{{\\delta ^2}{c^2}}}{{{h^2}}}} \\right){u_{i,j}} - {u_{i,j - 1}}$$"
   ]
  },
  {
   "cell_type": "markdown",
   "metadata": {},
   "source": [
    "This equation tells us that if we know $u$ at all $x_i$ at the times $t_j$ and $t_{j-1}$ then we can immediately determine $u$ at all $x_i$ at the next time step, $t_{j+1}$. This is said to be an ***explicit*** method for determining the solutions."
   ]
  },
  {
   "cell_type": "markdown",
   "metadata": {},
   "source": [
    "___\n",
    "### 2.2.2 Type of Boundary conditions\n",
    "\n",
    "The wave equation is given by\n",
    "\n",
    "$$\\frac{{{\\partial ^2}u}}{{\\partial {t^2}}} = c^2 \\frac{{{\\partial ^2}u}}{{\\partial {x^2}}}$$"
   ]
  },
  {
   "cell_type": "markdown",
   "metadata": {},
   "source": [
    "Unknown function $u$ depends on $x$ and $t$. To solve this, wee need to know the initial and boundary conditions:\n",
    "\n",
    "- Initial condition for $u(x,0)$\n",
    "- Initial condition for $u_t(x,0)$\n",
    "- Boundary condition at $x=0$\n",
    "- Boundary condition at $x=L$"
   ]
  },
  {
   "cell_type": "markdown",
   "metadata": {},
   "source": [
    "#### Initial conditions\n",
    "\n",
    "Most problem we will know the function:\n",
    "\n",
    "$$u(x, 0) = f(x)$$.\n",
    "\n",
    "If the wave if initially at rest, then we also know that\n",
    "\n",
    "$$\\frac{\\partial}{\\partial t}u(x,0) = 0$$\n"
   ]
  },
  {
   "cell_type": "markdown",
   "metadata": {},
   "source": [
    "#### Boundary conditions\n",
    "#### 1. Fixed boundaries\n",
    "\n",
    "At $x=0$ we will sometimes use the condition $u=0$, often known as a homogeneous **Dirichlet** condition. This condition will mirror the wave."
   ]
  },
  {
   "cell_type": "markdown",
   "metadata": {},
   "source": [
    "#### 2. Feeding a wave from the boundary\n",
    "\n",
    "We shall demonstrate the effect of moving $u$ at the boundary $x=0$ to feed the domain with an incoming wave. This is another type of **Dirichlet** condition. The boundary condition then reads\n",
    "\n",
    "$$u(0,t) = U_0(t)$$\n",
    "\n",
    "for some given function $U_0(t)$. A particular choice in a later demonstration is a sine function that is active in three different time intervals:\n",
    "\n",
    "$$U_0 (t) = \\left\\lbrace\\begin{array}{ll}\n",
    "\\frac{1}{4}\\sin(6\\pi t),& t\\in T\\\\\n",
    "0,& \\hbox{otherwise}\n",
    "\\end{array}\\right.$$\n",
    "\n",
    "The movement of $u$ at the boundary will produce a wave that is by the PDE transported to the right into the domain."
   ]
  },
  {
   "cell_type": "markdown",
   "metadata": {},
   "source": [
    "There is a small difficulty in the starting the solution since we usually won't know $u$ at two successive time steps. Rather, we might know $u(x_i, 0)$ and the derivative $\\frac{{\\partial u({x_i},0)}}{{\\partial t}}$ at all $x_i$. Then we have"
   ]
  },
  {
   "cell_type": "markdown",
   "metadata": {},
   "source": [
    "#### 3. Reflecting condition\n",
    "\n",
    "At $x=0$ and/or $x=L$ we will apply a reflecting or no-flux condition:\n",
    "\n",
    "$$\\frac{\\partial u}{\\partial x}=0$$\n",
    "\n",
    "This condition reflects the wave into the domain again, as a surface wave hits a vertical wave, runs up to the double amplitude, and propagates back into the domain again. This type of boundary condition is also referred to as a **Neumann** condition."
   ]
  },
  {
   "cell_type": "markdown",
   "metadata": {},
   "source": [
    "#### 4. Open boundary condition\n",
    "Very often one wants to let a wave travel through the boundary without being disturbed. Such a condition is called an open boundary condition, or a radiation condition, or an artificial boundary condition:\n",
    "\n",
    "$$\\begin{align}\n",
    "\\frac{\\partial u}{\\partial t} - c\\frac{\\partial u}{\\partial x} &= 0,\\quad x=0,\n",
    "\\\\\\frac{\\partial u}{\\partial t} + c\\frac{\\partial u}{\\partial x} &= 0,\\quad x=L\n",
    "\\end{align}$$\n",
    "\n",
    "These conditions work exactly in 1D, but are challenging to generalize and implement in 2D and 3D."
   ]
  },
  {
   "cell_type": "markdown",
   "metadata": {},
   "source": [
    "$${\\left. {\\frac{{\\partial u({x_i},t)}}{{\\partial t}}} \\right|_{t = 0}} = \\frac{{{u_{i,1}} - {u_{i, - 1}}}}{{2\\delta }}$$\n",
    "\n",
    "or \n",
    "\n",
    "$${u_{i, - 1}} = {u_{i,1}} - 2\\delta {\\left. {\\frac{{\\partial u({x_i},t)}}{{\\partial t}}} \\right|_{t = 0}}$$"
   ]
  },
  {
   "cell_type": "markdown",
   "metadata": {},
   "source": [
    "___\n",
    "### 2.2.3 Putting It All Together\n",
    "\n",
    "Assuming, the boundary condition on both ends are fixed to 0.\n",
    "\n",
    "With this expression for ${u_{i, - 1}}$, we can write the $j = 0$ case of the recurring equation for ${u_{i, j+ 1}}$, i.e. the solution at the first time step, as:\n",
    "\n",
    "$$ {u_{i,1}} = \\frac{{{\\delta ^2}{c^2}}}{{{h^2}}}\\left( {{u_{i + 1,0}} + {u_{i - 1,0}}} \\right) + 2\\left( {1 - \\frac{{{\\delta ^2}{c^2}}}{{{h^2}}}} \\right){u_{i,0}} - {u_{i,1}} + 2\\delta \\frac{{\\partial u({x_i},0)}}{{\\partial t}} $$\n",
    "\n",
    "or \n",
    "\n",
    "$$ {u_{i,1}} = \\frac{{{\\delta ^2}{c^2}}}{{2{h^2}}}\\left( {{u_{i + 1,0}} + {u_{i - 1,0}}} \\right) + \\left( {1 - \\frac{{{\\delta ^2}{c^2}}}{{{h^2}}}} \\right){u_{i,0}} + \\delta \\frac{{\\partial u({x_i},0)}}{{\\partial t}} $$\n",
    "\n",
    "where epsilon,\n",
    "$$ \\varepsilon = \\frac{\\delta ^2 c^2}{h^2} $$"
   ]
  },
  {
   "cell_type": "markdown",
   "metadata": {},
   "source": [
    "Now we have equation for iterating the first step, and equation for iterating all steps after that. So, let's implement."
   ]
  },
  {
   "cell_type": "markdown",
   "metadata": {},
   "source": [
    "___\n",
    "**Exercise 1:** \n",
    "\n",
    "Initially, we deform the string so that it has a \"bump\" in the middle,\n",
    "\n",
    "$$u(x,0) = \\left\\{ {\\begin{array}{*{20}{c}}\n",
    "{\\begin{array}{*{20}{c}}\n",
    "{0,}\\\\\n",
    "{{e^{ - 100{{(x - 0.5)}^2}}},}\\\\\n",
    "{0,}\n",
    "\\end{array}}&{\\begin{array}{*{20}{c}}\n",
    "{x = 0}\\\\\n",
    "{0 < x < 1}\\\\\n",
    "{x = 1}\n",
    "\\end{array}}\n",
    "\\end{array}} \\right.$$\n",
    "\n",
    "Given that at $x=0$ the wave is mirrored (reversed phase or fixed boundary) but at $x=L=1$ the wave is reflecting condition (no reversed phase)\n",
    "\n",
    "Plot a time-animated graph to demonstrate this."
   ]
  },
  {
   "cell_type": "markdown",
   "metadata": {},
   "source": [
    "and it is motionless at $t=0$. Take $c^2 = 10000$, $l = 1 m$ $h=1$ and $\\delta = 0.0001$"
   ]
  },
  {
   "cell_type": "code",
   "execution_count": 1,
   "metadata": {
    "ExecuteTime": {
     "end_time": "2021-10-11T11:31:11.884496Z",
     "start_time": "2021-10-11T11:31:11.532510Z"
    }
   },
   "outputs": [],
   "source": [
    "import numpy as np\n",
    "import matplotlib.pyplot as plt\n",
    "import matplotlib.animation as animation\n",
    "from tqdm.notebook import trange, tqdm\n",
    "import imageio\n",
    "import os\n",
    "import random"
   ]
  },
  {
   "cell_type": "code",
   "execution_count": 11,
   "metadata": {
    "ExecuteTime": {
     "end_time": "2021-10-11T11:43:28.740166Z",
     "start_time": "2021-10-11T11:43:10.282274Z"
    }
   },
   "outputs": [
    {
     "data": {
      "image/png": "[encoded data removed]",
      "text/plain": [
       "<Figure size 432x288 with 1 Axes>"
      ]
     },
     "metadata": {
      "needs_background": "light"
     },
     "output_type": "display_data"
    },
    {
     "data": {
      "application/vnd.jupyter.widget-view+json": {
       "model_id": "3e47d0759fe74784a15bae4b61319432",
       "version_major": 2,
       "version_minor": 0
      },
      "text/plain": [
       "  0%|          | 0/200 [00:00<?, ?it/s]"
      ]
     },
     "metadata": {},
     "output_type": "display_data"
    },
    {
     "name": "stdout",
     "output_type": "stream",
     "text": [
      "Done!\n"
     ]
    }
   ],
   "source": [
    "# Set up boundries\n",
    "N = 100\n",
    "L = 1\n",
    "\n",
    "# Set up an array of ux0\n",
    "x = np.linspace(0, 1., num=N+1, endpoint=True)\n",
    "Ux0 = np.exp(-100. * (x - 0.5)**2)  # initial value\n",
    "\n",
    "# ensuring both ends are fixed at zero\n",
    "Ux0[0] = 0\n",
    "Ux0[N] = 0\n",
    "\n",
    "Uold = Ux0\n",
    "# Set up initial condition for the time derivative at t = 0\n",
    "dUx0 = np.zeros(N+1)\n",
    "\n",
    "dt = 0.0001  # Set up time step size\n",
    "dh = L / N  # Spatial step size\n",
    "c = 100\n",
    "eps = ((dt*c / dh)**2)  # Calculate epsilon\n",
    "\n",
    "\n",
    "# Calculate time step j = 1\n",
    "Uij = np.zeros(N+1)\n",
    "for i in np.linspace(1, N-1, N-1, dtype=int):\n",
    "    Uij[i] = 0.5 * eps * (Ux0[i+1] + Ux0[i-1]) + \\\n",
    "        (1. - eps) * (Ux0[i]) + dt * dUx0[i]\n",
    "\n",
    "plt.plot(x, Uij)\n",
    "plt.grid()\n",
    "plt.title(\"Initial Condition\")\n",
    "plt.show()\n",
    "UAll = np.array([Uij])\n",
    "\n",
    "frames = []\n",
    "for j in trange(200):\n",
    "    Unew = np.zeros(N+1)\n",
    "    for i in np.linspace(1, N-1, N-1, dtype=int):\n",
    "        Unew[i] = eps * (Uij[i+1] + Uij[i-1]) + 2. * \\\n",
    "            (1. - eps) * Uij[i] - Uold[i]\n",
    "    Uold = Uij\n",
    "    Uij = Unew\n",
    "    UAll = np.vstack([UAll, Unew])\n",
    "\n",
    "    plt.plot(x, Unew)\n",
    "    plt.ylim(-1, 1)\n",
    "    plt.grid()\n",
    "\n",
    "    # make frame\n",
    "    frame = f'{j}.png'\n",
    "    frames.append(frame)\n",
    "    # save frame\n",
    "    plt.savefig(frame)\n",
    "    plt.close()\n",
    "\n",
    "with imageio.get_writer('wave-ans.gif', mode='I') as writer:\n",
    "    for frame in frames:\n",
    "        image = imageio.imread(frame)\n",
    "        writer.append_data(image)\n",
    "\n",
    "# Remove files\n",
    "for filename in set(frames):\n",
    "    os.remove(filename)\n",
    "print(\"Done!\")"
   ]
  },
  {
   "cell_type": "markdown",
   "metadata": {},
   "source": [
    "<img src=\"wave-ans.gif\">"
   ]
  },
  {
   "cell_type": "markdown",
   "metadata": {},
   "source": [
    "$$ {u_{i,1}} = \\frac{{{\\delta ^2}{c^2}}}{{2{h^2}}}\\left( {{u_{i + 1,0}} + {u_{i - 1,0}}} \\right) + \\left( {1 - \\frac{{{\\delta ^2}{c^2}}}{{{h^2}}}} \\right){u_{i,0}} + \\delta \\frac{{\\partial u({x_i},0)}}{{\\partial t}} $$\n",
    "\n",
    "$${u_{i,j + 1}} = \\frac{{{\\delta ^2}{c^2}}}{{{h^2}}}\\left( {{u_{i + 1,j}} + {u_{i - 1,j}}} \\right) + 2\\left( {1 - \\frac{{{\\delta ^2}{c^2}}}{{{h^2}}}} \\right){u_{i,j}} - {u_{i,j - 1}}$$\n",
    "\n",
    "where epsilon,\n",
    "$$ \\varepsilon = \\frac{\\delta ^2 c^2}{h^2} $$"
   ]
  },
  {
   "cell_type": "code",
   "execution_count": 4,
   "metadata": {
    "ExecuteTime": {
     "end_time": "2021-10-11T11:34:06.834280Z",
     "start_time": "2021-10-11T11:32:54.434602Z"
    }
   },
   "outputs": [
    {
     "data": {
      "image/png": "[encoded data removed]",
      "text/plain": [
       "<Figure size 432x288 with 1 Axes>"
      ]
     },
     "metadata": {
      "needs_background": "light"
     },
     "output_type": "display_data"
    },
    {
     "data": {
      "application/vnd.jupyter.widget-view+json": {
       "model_id": "2aebe24672ce44148c1c90a5bd18b448",
       "version_major": 2,
       "version_minor": 0
      },
      "text/plain": [
       "  0%|          | 0/9998 [00:00<?, ?it/s]"
      ]
     },
     "metadata": {},
     "output_type": "display_data"
    },
    {
     "data": {
      "application/vnd.jupyter.widget-view+json": {
       "model_id": "f846de5aee3e4156af81c7cc01f163c6",
       "version_major": 2,
       "version_minor": 0
      },
      "text/plain": [
       "  0%|          | 0/200 [00:00<?, ?it/s]"
      ]
     },
     "metadata": {},
     "output_type": "display_data"
    },
    {
     "name": "stdout",
     "output_type": "stream",
     "text": [
      "['0.png', '50.png', '100.png', '150.png', '200.png', '250.png', '300.png', '350.png', '400.png', '450.png', '500.png', '550.png', '600.png', '650.png', '700.png', '750.png', '800.png', '850.png', '900.png', '950.png', '1000.png', '1050.png', '1100.png', '1150.png', '1200.png', '1250.png', '1300.png', '1350.png', '1400.png', '1450.png', '1500.png', '1550.png', '1600.png', '1650.png', '1700.png', '1750.png', '1800.png', '1850.png', '1900.png', '1950.png', '2000.png', '2050.png', '2100.png', '2150.png', '2200.png', '2250.png', '2300.png', '2350.png', '2400.png', '2450.png', '2500.png', '2550.png', '2600.png', '2650.png', '2700.png', '2750.png', '2800.png', '2850.png', '2900.png', '2950.png', '3000.png', '3050.png', '3100.png', '3150.png', '3200.png', '3250.png', '3300.png', '3350.png', '3400.png', '3450.png', '3500.png', '3550.png', '3600.png', '3650.png', '3700.png', '3750.png', '3800.png', '3850.png', '3900.png', '3950.png', '4000.png', '4050.png', '4100.png', '4150.png', '4200.png', '4250.png', '4300.png', '4350.png', '4400.png', '4450.png', '4500.png', '4550.png', '4600.png', '4650.png', '4700.png', '4750.png', '4800.png', '4850.png', '4900.png', '4950.png', '5000.png', '5050.png', '5100.png', '5150.png', '5200.png', '5250.png', '5300.png', '5350.png', '5400.png', '5450.png', '5500.png', '5550.png', '5600.png', '5650.png', '5700.png', '5750.png', '5800.png', '5850.png', '5900.png', '5950.png', '6000.png', '6050.png', '6100.png', '6150.png', '6200.png', '6250.png', '6300.png', '6350.png', '6400.png', '6450.png', '6500.png', '6550.png', '6600.png', '6650.png', '6700.png', '6750.png', '6800.png', '6850.png', '6900.png', '6950.png', '7000.png', '7050.png', '7100.png', '7150.png', '7200.png', '7250.png', '7300.png', '7350.png', '7400.png', '7450.png', '7500.png', '7550.png', '7600.png', '7650.png', '7700.png', '7750.png', '7800.png', '7850.png', '7900.png', '7950.png', '8000.png', '8050.png', '8100.png', '8150.png', '8200.png', '8250.png', '8300.png', '8350.png', '8400.png', '8450.png', '8500.png', '8550.png', '8600.png', '8650.png', '8700.png', '8750.png', '8800.png', '8850.png', '8900.png', '8950.png', '9000.png', '9050.png', '9100.png', '9150.png', '9200.png', '9250.png', '9300.png', '9350.png', '9400.png', '9450.png', '9500.png', '9550.png', '9600.png', '9650.png', '9700.png', '9750.png', '9800.png', '9850.png', '9900.png', '9950.png']\n"
     ]
    }
   ],
   "source": [
    "Nt = 10000  # Temporal steps\n",
    "Nx = 1000   # Spatial steps\n",
    "\n",
    "tMin = 0\n",
    "tMax = 10\n",
    "\n",
    "xMin = 0\n",
    "xMax = 1\n",
    "\n",
    "t = np.linspace(tMin, tMax, num=Nt, endpoint=True)\n",
    "x = np.linspace(xMin, xMax, num=Nx, endpoint=True)\n",
    "\n",
    "# Compute Secondary varibles\n",
    "deltaT = t[1] - t[0]\n",
    "deltaX = x[1] - x[0]\n",
    "c = 100\n",
    "h = Nx / Nt\n",
    "eps = deltaT**2 * c**2 / h**2\n",
    "\n",
    "U = np.zeros((Nt, Nx), dtype=np.longdouble)\n",
    "\n",
    "# Compute Intial values\n",
    "U[0, :] = np.exp(-100. * (x - 0.5)**2)\n",
    "\n",
    "# Plot Intial Condition\n",
    "plt.plot(x, U[0, :])\n",
    "plt.grid()\n",
    "plt.title(\"Initial Condition\")\n",
    "plt.show()\n",
    "\n",
    "# Iterate to the matrix u\n",
    "for j in trange(1, Nt-1):\n",
    "    for i in range(Nx):\n",
    "        # Check boudary conditions\n",
    "        if i == 0 or i == Nx-1:\n",
    "            U[j][i] = 0  # Set boundary conditions\n",
    "        else:\n",
    "            U_ip1 = U[j][i+1]\n",
    "            U_im1 = U[j][i-1]\n",
    "            U_ij  = U[j][i]\n",
    "            U_jm1 = U[j-1][i]\n",
    "\n",
    "            U[j+1][i] = eps * (U_ip1 + U_im1) + 2. * (1. - eps) * U_ij - U_jm1\n",
    "frames = []\n",
    "for i in trange(0, Nt, 50):\n",
    "    plt.plot(x, U[i, :])\n",
    "#     plt.ylim(-1, 1)\n",
    "    plt.grid()\n",
    "\n",
    "    # make frame\n",
    "    frame = f'{i}.png'\n",
    "    frames.append(frame)\n",
    "    # save frame\n",
    "    plt.savefig(frame)\n",
    "    plt.close()\n",
    "\n",
    "with imageio.get_writer('wave-refactor-ans.gif', mode='I') as writer:\n",
    "    for frame in frames:\n",
    "        image = imageio.imread(frame)\n",
    "        writer.append_data(image)\n",
    "\n",
    "# Remove files\n",
    "for filename in set(frames):\n",
    "    os.remove(filename)\n",
    "print(\"Done!\")"
   ]
  },
  {
   "cell_type": "markdown",
   "metadata": {},
   "source": [
    "<img src=\"wave-refactor-ans.gif\">"
   ]
  },
  {
   "cell_type": "markdown",
   "metadata": {},
   "source": [
    "---\n",
    "**Exercise 2:** \n",
    "\n",
    "Try the same problem as **Exercise 1** but use $u(x, 0) = 0$ for all $x$ as initial condition.\n",
    "\n",
    "The boundary condition at $x = 0$ is the **feeding wave into the string condition**, which is given by: \n",
    "\n",
    "$$u(0, t) = \\left\\lbrace\\begin{array}{ll}\n",
    "2\\sin(8\\pi t),& t\\in {0, \\frac{1}{4}}\\\\\n",
    "0,& \\hbox{otherwise}\n",
    "\\end{array}\\right.$$\n",
    "\n",
    "and the boundary condition on the other end, $x = L$ is an **open boundary condition**.\n",
    "\n",
    "Plot a time-animated graph to demonstrate this.\n",
    "\n",
    "we know,\n",
    "$$\n",
    "    \\frac{\\partial u}{\\partial t}= 16\\pi\\cos(8\\pi t)\n",
    "$$"
   ]
  },
  {
   "cell_type": "code",
   "execution_count": 13,
   "metadata": {
    "ExecuteTime": {
     "end_time": "2021-10-06T13:44:06.683877Z",
     "start_time": "2021-10-06T13:43:50.866293Z"
    }
   },
   "outputs": [
    {
     "name": "stdout",
     "output_type": "stream",
     "text": [
      "['0.png', '10.png', '20.png', '30.png', '40.png', '50.png', '60.png', '70.png', '80.png', '90.png', '100.png', '110.png', '120.png', '130.png', '140.png', '150.png', '160.png', '170.png', '180.png', '190.png']\n"
     ]
    }
   ],
   "source": [
    "# Set up boundries\n",
    "N = 100\n",
    "L = 1\n",
    "\n",
    "# Set up an array of ux0\n",
    "t = np.linspace(0, 0.25, num=N+1, endpoint=True)\n",
    "Ut0 = 2 * np.sin(8 * np.pi * t) # initial value\n",
    "\n",
    "# ensuring both ends are fixed at zero\n",
    "Ut0[0] = 2 * np.sin(8 * np.pi * t[0])\n",
    "Ut0[N] = 2 * np.sin(8 * np.pi * t[N])\n",
    "\n",
    "Uold = Ut0\n",
    "\n",
    "dt = 0.0001  # Set up time step size\n",
    "dh = L / N  # Spatial step size\n",
    "c = 100\n",
    "eps = ((dt*c / dh)**2)  # Calculate epsilon\n",
    "\n",
    "# Set up initial condition for the time derivative at t = 0\n",
    "dUt0 = (16 * np.pi * np.cos(8*np.pi*t)) / -c\n",
    "\n",
    "\n",
    "# Calculate time step j = 1\n",
    "Uij = np.zeros(N+1)\n",
    "for i in np.linspace(1, N-1, N-1, dtype=int):\n",
    "    Uij[i] = 0.5 * eps * (Ut0[i+1] + Ut0[i-1]) + \\\n",
    "        (1. - eps) * (Ut0[i]) + dt * dUt0[i]\n",
    "Uij[-1] = Uij[-1] - 1/dh**2\n",
    "UAll = np.array([Uij])\n",
    "frames = []\n",
    "for j in range(200):\n",
    "    Unew = np.zeros(N+1)\n",
    "    for i in np.linspace(1, N-1, N-1, dtype=int):\n",
    "        Unew[i] = eps * (Uij[i+1] + Uij[i-1]) + 2. * \\\n",
    "            (1. - eps) * Uij[i] - Uold[i]\n",
    "    Uold = Uij\n",
    "    Unew[-1] = Unew[-1] - 1/dh**2\n",
    "    Uij = Unew\n",
    "    UAll = np.vstack([UAll, Unew])\n",
    "    plt.plot(t, Unew)\n",
    "    plt.ylim(-11, 11)\n",
    "#     plt.xlim(0, 0.25)\n",
    "    if j % 10 == 0:\n",
    "        frame = f'{j}.png'\n",
    "        frames.append(frame)\n",
    "\n",
    "    # save frame\n",
    "    plt.savefig(frame)\n",
    "    plt.close()\n",
    "\n",
    "with imageio.get_writer('mygif.gif', mode='I') as writer:\n",
    "    for frame in frames:\n",
    "        image = imageio.imread(frame)\n",
    "        writer.append_data(image)\n",
    "\n",
    "# Remove files\n",
    "for filename in set(frames):\n",
    "    os.remove(filename)\n",
    "print(frames)"
   ]
  }
 ],
 "metadata": {
  "kernelspec": {
   "display_name": "Python 3 (ipykernel)",
   "language": "python",
   "name": "python3"
  },
  "language_info": {
   "codemirror_mode": {
    "name": "ipython",
    "version": 3
   },
   "file_extension": ".py",
   "mimetype": "text/x-python",
   "name": "python",
   "nbconvert_exporter": "python",
   "pygments_lexer": "ipython3",
   "version": "3.8.10"
  },
  "toc": {
   "base_numbering": 1,
   "nav_menu": {},
   "number_sections": true,
   "sideBar": true,
   "skip_h1_title": false,
   "title_cell": "Table of Contents",
   "title_sidebar": "Contents",
   "toc_cell": false,
   "toc_position": {},
   "toc_section_display": true,
   "toc_window_display": false
  }
 },
 "nbformat": 4,
 "nbformat_minor": 1
}
