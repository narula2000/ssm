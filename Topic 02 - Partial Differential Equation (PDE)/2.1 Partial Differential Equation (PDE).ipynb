{
 "cells": [
  {
   "cell_type": "markdown",
   "metadata": {},
   "source": [
    "## 2.1 Partial Differential Equation (PDE)"
   ]
  },
  {
   "cell_type": "markdown",
   "metadata": {
    "collapsed": true
   },
   "source": [
    "In previous lectures, we learn about solving the differential equations when the functions depend on exactly one variable, i.e. $x$ or $t$. However, the real physical phenomenon may involve more than one variables in the form of partial differential equations. For examples, wave equation, Schrodinger's equation, heat transfer, diffusion, electromanetism, etc. Let's use an example of wave in a string."
   ]
  },
  {
   "cell_type": "markdown",
   "metadata": {},
   "source": [
    "___\n",
    "### 2.1.1 Finite Difference Equations\n",
    "\n",
    "From the wave course, we know that the wave equation in string is given by:\n",
    "\n",
    "$$\\frac{{{\\partial ^2}u}}{{\\partial {t^2}}} = \\frac{T}{\\mu }\\frac{{{\\partial ^2}u}}{{\\partial {x^2}}}$$\n",
    "\n",
    "where $T$ and $\\mu$ are tension and mass density respectively and $u = u(x, t)$ is the wave function, i.e. displacement of wave as function of position and time."
   ]
  },
  {
   "cell_type": "markdown",
   "metadata": {
    "collapsed": true
   },
   "source": [
    "The second derivative can be approximated by\n",
    "\n",
    "$$\\frac{{{d^2}f(x)}}{{d{x^2}}} = \\frac{{f(x + h) - 2f(x) + f(x - h)}}{{{h^2}}} + O({h^3})$$\n"
   ]
  },
  {
   "cell_type": "markdown",
   "metadata": {},
   "source": [
    "In two dimensions of $(x,t)$, we impose a rectangular grid in space and time such that\n",
    "\n",
    "$$\\begin{array}{l}\n",
    "{x_i} = ih\\\\\n",
    "{t_j} = j\\delta \n",
    "\\end{array}$$\n",
    "\n",
    "where $i = 0, 1, 2, ..., N$ and $j = 0, 1, 2, ..., M$"
   ]
  },
  {
   "cell_type": "markdown",
   "metadata": {},
   "source": [
    "In the finite difference approximation to the wave equation is then:\n",
    "\n",
    "$$\\frac{{{\\partial ^2}u}}{{\\partial {t^2}}} \\approx \\frac{{{u_{i,j + 1}} - 2{u_{i,j}} + {u_{i,j - 1}}}}{{{\\delta ^2}}}$$"
   ]
  },
  {
   "cell_type": "markdown",
   "metadata": {},
   "source": [
    "$$\\frac{{{\\partial ^2}u}}{{\\partial {x^2}}} \\approx \\frac{{{u_{i + 1,j}} - 2{u_{i,j}} + {u_{i - 1,j}}}}{{{h^2}}}$$"
   ]
  },
  {
   "cell_type": "markdown",
   "metadata": {},
   "source": [
    "Substitue these approximation into the wave equation, we have\n",
    "\n",
    "$$\\frac{{{u_{i,j + 1}} - 2{u_{i,j}} + {u_{i,j - 1}}}}{{{\\delta ^2}}} = {c^2}\\frac{{{u_{i + 1,j}} - 2{u_{i,j}} + {u_{i - 1,j}}}}{{{h^2}}}$$\n",
    "\n",
    "where $c^2 = T/\\mu$, and $c$ is the speed of the wave in string."
   ]
  },
  {
   "cell_type": "markdown",
   "metadata": {
    "collapsed": true
   },
   "source": [
    "If the condition for $u(x, t=0)$ is known, then it is useful to solve for ${{u_{i,j + 1}}}$. Therefore, we will rearrange the equation above to make ${{u_{i,j + 1}}}$ a subject.\n",
    "\n",
    "$${u_{i,j + 1}} = \\frac{{{\\delta ^2}{c^2}}}{{{h^2}}}\\left( {{u_{i + 1,j}} + {u_{i - 1,j}}} \\right) + 2\\left( {1 - \\frac{{{\\delta ^2}{c^2}}}{{{h^2}}}} \\right){u_{i,j}} - {u_{i,j - 1}}$$"
   ]
  },
  {
   "cell_type": "markdown",
   "metadata": {},
   "source": [
    "This equation tells us that if we know $u$ at all $x_i$ at the times $t_j$ and $t_{j-1}$ then we can immediately determine $u$ at all $x_i$ at the next time step, $t_{j+1}$. This is said to be an ***explicit*** method for determining the solutions."
   ]
  },
  {
   "cell_type": "markdown",
   "metadata": {},
   "source": [
    "___\n",
    "### 2.2.2 Type of Boundary conditions\n",
    "\n",
    "The wave equation is given by\n",
    "\n",
    "$$\\frac{{{\\partial ^2}u}}{{\\partial {t^2}}} = c^2 \\frac{{{\\partial ^2}u}}{{\\partial {x^2}}}$$"
   ]
  },
  {
   "cell_type": "markdown",
   "metadata": {},
   "source": [
    "Unknown function $u$ depends on $x$ and $t$. To solve this, wee need to know the initial and boundary conditions:\n",
    "\n",
    "- Initial condition for $u(x,0)$\n",
    "- Initial condition for $u_t(x,0)$\n",
    "- Boundary condition at $x=0$\n",
    "- Boundary condition at $x=L$"
   ]
  },
  {
   "cell_type": "markdown",
   "metadata": {},
   "source": [
    "#### Initial conditions\n",
    "\n",
    "Most problem we will know the function:\n",
    "\n",
    "$$u(x, 0) = f(x)$$.\n",
    "\n",
    "If the wave if initially at rest, then we also know that\n",
    "\n",
    "$$\\frac{\\partial}{\\partial t}u(x,0) = 0$$\n"
   ]
  },
  {
   "cell_type": "markdown",
   "metadata": {},
   "source": [
    "#### Boundary conditions\n",
    "#### 1. Fixed boundaries\n",
    "\n",
    "At $x=0$ we will sometimes use the condition $u=0$, often known as a homogeneous **Dirichlet** condition. This condition will mirror the wave."
   ]
  },
  {
   "cell_type": "markdown",
   "metadata": {},
   "source": [
    "#### 2. Feeding a wave from the boundary\n",
    "\n",
    "We shall demonstrate the effect of moving $u$ at the boundary $x=0$ to feed the domain with an incoming wave. This is another type of **Dirichlet** condition. The boundary condition then reads\n",
    "\n",
    "$$u(0,t) = U_0(t)$$\n",
    "\n",
    "for some given function $U_0(t)$. A particular choice in a later demonstration is a sine function that is active in three different time intervals:\n",
    "\n",
    "$$U_0 (t) = \\left\\lbrace\\begin{array}{ll}\n",
    "\\frac{1}{4}\\sin(6\\pi t),& t\\in T\\\\\n",
    "0,& \\hbox{otherwise}\n",
    "\\end{array}\\right.$$\n",
    "\n",
    "The movement of $u$ at the boundary will produce a wave that is by the PDE transported to the right into the domain."
   ]
  },
  {
   "cell_type": "markdown",
   "metadata": {},
   "source": [
    "There is a small difficulty in the starting the solution since we usually won't know $u$ at two successive time steps. Rather, we might know $u(x_i, 0)$ and the derivative $\\frac{{\\partial u({x_i},0)}}{{\\partial t}}$ at all $x_i$. Then we have"
   ]
  },
  {
   "cell_type": "markdown",
   "metadata": {},
   "source": [
    "#### 3. Reflecting condition\n",
    "\n",
    "At $x=0$ and/or $x=L$ we will apply a reflecting or no-flux condition:\n",
    "\n",
    "$$\\frac{\\partial u}{\\partial x}=0$$\n",
    "\n",
    "This condition reflects the wave into the domain again, as a surface wave hits a vertical wave, runs up to the double amplitude, and propagates back into the domain again. This type of boundary condition is also referred to as a **Neumann** condition."
   ]
  },
  {
   "cell_type": "markdown",
   "metadata": {},
   "source": [
    "#### 4. Open boundary condition\n",
    "Very often one wants to let a wave travel through the boundary without being disturbed. Such a condition is called an open boundary condition, or a radiation condition, or an artificial boundary condition:\n",
    "\n",
    "$$\\begin{align}\n",
    "\\frac{\\partial u}{\\partial t} - c\\frac{\\partial u}{\\partial x} &= 0,\\quad x=0,\n",
    "\\\\\\frac{\\partial u}{\\partial t} + c\\frac{\\partial u}{\\partial x} &= 0,\\quad x=L\n",
    "\\end{align}$$\n",
    "\n",
    "These conditions work exactly in 1D, but are challenging to generalize and implement in 2D and 3D."
   ]
  },
  {
   "cell_type": "markdown",
   "metadata": {},
   "source": [
    "$${\\left. {\\frac{{\\partial u({x_i},t)}}{{\\partial t}}} \\right|_{t = 0}} = \\frac{{{u_{i,1}} - {u_{i, - 1}}}}{{2\\delta }}$$\n",
    "\n",
    "or \n",
    "\n",
    "$${u_{i, - 1}} = {u_{i,1}} - 2\\delta {\\left. {\\frac{{\\partial u({x_i},t)}}{{\\partial t}}} \\right|_{t = 0}}$$"
   ]
  },
  {
   "cell_type": "markdown",
   "metadata": {},
   "source": [
    "___\n",
    "### 2.2.3 Putting It All Together\n",
    "\n",
    "Assuming, the boundary condition on both ends are fixed to 0.\n",
    "\n",
    "With this expression for ${u_{i, - 1}}$, we can write the $j = 0$ case of the recurring equation for ${u_{i, j+ 1}}$, i.e. the solution at the first time step, as:\n",
    "\n",
    "$$ {u_{i,1}} = \\frac{{{\\delta ^2}{c^2}}}{{{h^2}}}\\left( {{u_{i + 1,0}} + {u_{i - 1,0}}} \\right) + 2\\left( {1 - \\frac{{{\\delta ^2}{c^2}}}{{{h^2}}}} \\right){u_{i,0}} - {u_{i,1}} + 2\\delta \\frac{{\\partial u({x_i},0)}}{{\\partial t}} $$\n",
    "\n",
    "or \n",
    "\n",
    "$$ {u_{i,1}} = \\frac{{{\\delta ^2}{c^2}}}{{2{h^2}}}\\left( {{u_{i + 1,0}} + {u_{i - 1,0}}} \\right) + \\left( {1 - \\frac{{{\\delta ^2}{c^2}}}{{{h^2}}}} \\right){u_{i,0}} + \\delta \\frac{{\\partial u({x_i},0)}}{{\\partial t}} $$\n",
    "\n",
    "where epsilon,\n",
    "$$ \\varepsilon = \\frac{\\delta ^2 c^2}{h^2} $$"
   ]
  },
  {
   "cell_type": "markdown",
   "metadata": {},
   "source": [
    "Now we have equation for iterating the first step, and equation for iterating all steps after that. So, let's implement."
   ]
  },
  {
   "cell_type": "markdown",
   "metadata": {},
   "source": [
    "___\n",
    "**Exercise 1:** \n",
    "\n",
    "Initially, we deform the string so that it has a \"bump\" in the middle,\n",
    "\n",
    "$$u(x,0) = \\left\\{ {\\begin{array}{*{20}{c}}\n",
    "{\\begin{array}{*{20}{c}}\n",
    "{0,}\\\\\n",
    "{{e^{ - 100{{(x - 0.5)}^2}}},}\\\\\n",
    "{0,}\n",
    "\\end{array}}&{\\begin{array}{*{20}{c}}\n",
    "{x = 0}\\\\\n",
    "{0 < x < 1}\\\\\n",
    "{x = 1}\n",
    "\\end{array}}\n",
    "\\end{array}} \\right.$$\n",
    "\n",
    "Given that at $x=0$ the wave is mirrored (reversed phase or fixed boundary) but at $x=L=1$ the wave is reflecting condition (no reversed phase)\n",
    "\n",
    "Plot a time-animated graph to demonstrate this."
   ]
  },
  {
   "cell_type": "markdown",
   "metadata": {},
   "source": [
    "and it is motionless at $t=0$. Take $c^2 = 10000$, $l = 1 m$ $h=1$ and $\\delta = 0.0001$"
   ]
  },
  {
   "cell_type": "code",
   "execution_count": 31,
   "metadata": {
    "ExecuteTime": {
     "end_time": "2021-10-13T07:57:52.753077Z",
     "start_time": "2021-10-13T07:57:52.749881Z"
    }
   },
   "outputs": [],
   "source": [
    "import numpy as np\n",
    "import matplotlib.pyplot as plt\n",
    "import matplotlib.animation as animation\n",
    "from tqdm.notebook import trange, tqdm\n",
    "import imageio\n",
    "import os"
   ]
  },
  {
   "cell_type": "code",
   "execution_count": 32,
   "metadata": {
    "ExecuteTime": {
     "end_time": "2021-10-13T07:58:11.591446Z",
     "start_time": "2021-10-13T07:57:53.350008Z"
    }
   },
   "outputs": [
    {
     "data": {
      "image/png": "[encoded data removed]",
      "text/plain": [
       "<Figure size 432x288 with 1 Axes>"
      ]
     },
     "metadata": {
      "needs_background": "light"
     },
     "output_type": "display_data"
    },
    {
     "data": {
      "application/vnd.jupyter.widget-view+json": {
       "model_id": "919907f4db6b4bc88683ea6e5d050602",
       "version_major": 2,
       "version_minor": 0
      },
      "text/plain": [
       "  0%|          | 0/200 [00:00<?, ?it/s]"
      ]
     },
     "metadata": {},
     "output_type": "display_data"
    },
    {
     "name": "stdout",
     "output_type": "stream",
     "text": [
      "Done!\n"
     ]
    }
   ],
   "source": [
    "# Set up boundries\n",
    "N = 100\n",
    "L = 1\n",
    "\n",
    "# Set up an array of ux0\n",
    "x = np.linspace(0, 1., num=N+1, endpoint=True)\n",
    "Ux0 = np.exp(-100. * (x - 0.5)**2)  # initial value compute t0\n",
    "\n",
    "# ensuring both ends are fixed at zero\n",
    "Ux0[0] = 0\n",
    "Ux0[N] = 0\n",
    "\n",
    "Uold = Ux0\n",
    "# Set up initial condition for the time derivative at t = 0\n",
    "dUx0 = np.zeros(N+1)\n",
    "\n",
    "dt = 0.0001  # Set up time step size\n",
    "dh = L / N  # Spatial step size\n",
    "c = 100\n",
    "eps = ((dt*c / dh)**2)  # Calculate epsilon\n",
    "\n",
    "\n",
    "# Calculate time step j = 1\n",
    "Uij = np.zeros(N+1)\n",
    "for i in np.linspace(1, N-1, N-1, dtype=int):\n",
    "    Uij[i] = 0.5 * eps * (Ux0[i+1] + Ux0[i-1]) + \\\n",
    "        (1. - eps) * (Ux0[i])\n",
    "\n",
    "plt.plot(x, Ux0)\n",
    "plt.grid()\n",
    "plt.title(\"Initial Condition\")\n",
    "plt.show()\n",
    "UAll = np.array([Uij])\n",
    "\n",
    "frames = []\n",
    "for j in trange(200):\n",
    "    Unew = np.zeros(N+1)\n",
    "    for i in np.linspace(1, N-1, N-1, dtype=int):\n",
    "        Unew[i] = eps * (Uij[i+1] + Uij[i-1]) + 2. * \\\n",
    "            (1. - eps) * Uij[i] - Uold[i]\n",
    "    Uold = Uij\n",
    "    Uij = Unew\n",
    "    UAll = np.vstack([UAll, Unew])\n",
    "\n",
    "    plt.plot(x, Unew)\n",
    "    plt.ylim(-1, 1)\n",
    "    plt.grid()\n",
    "\n",
    "    # make frame\n",
    "    frame = f'{j}.png'\n",
    "    frames.append(frame)\n",
    "    # save frame\n",
    "    plt.savefig(frame)\n",
    "    plt.close()\n",
    "\n",
    "with imageio.get_writer('wave-ans.gif', mode='I') as writer:\n",
    "    for frame in frames:\n",
    "        image = imageio.imread(frame)\n",
    "        writer.append_data(image)\n",
    "\n",
    "# Remove files\n",
    "for filename in set(frames):\n",
    "    os.remove(filename)\n",
    "print(\"Done!\")"
   ]
  },
  {
   "cell_type": "code",
   "execution_count": 33,
   "metadata": {
    "ExecuteTime": {
     "end_time": "2021-10-13T07:58:11.596639Z",
     "start_time": "2021-10-13T07:58:11.593079Z"
    }
   },
   "outputs": [
    {
     "data": {
      "text/html": [
       "<img src=\"wave-ans.gif\">\n"
      ],
      "text/plain": [
       "<IPython.core.display.HTML object>"
      ]
     },
     "metadata": {},
     "output_type": "display_data"
    }
   ],
   "source": [
    "%%HTML\n",
    "<img src=\"wave-ans.gif\">"
   ]
  },
  {
   "cell_type": "markdown",
   "metadata": {},
   "source": [
    "$$ {u_{i,1}} = \\frac{{{\\delta ^2}{c^2}}}{{2{h^2}}}\\left( {{u_{i + 1,0}} + {u_{i - 1,0}}} \\right) + \\left( {1 - \\frac{{{\\delta ^2}{c^2}}}{{{h^2}}}} \\right){u_{i,0}} + \\delta \\frac{{\\partial u({x_i},0)}}{{\\partial t}} $$\n",
    "\n",
    "$${u_{i,j + 1}} = \\frac{{{\\delta ^2}{c^2}}}{{{h^2}}}\\left( {{u_{i + 1,j}} + {u_{i - 1,j}}} \\right) + 2\\left( {1 - \\frac{{{\\delta ^2}{c^2}}}{{{h^2}}}} \\right){u_{i,j}} - {u_{i,j - 1}}$$\n",
    "\n",
    "where epsilon,\n",
    "$$ \\varepsilon = \\frac{\\delta ^2 c^2}{h^2} $$"
   ]
  },
  {
   "cell_type": "code",
   "execution_count": 34,
   "metadata": {
    "ExecuteTime": {
     "end_time": "2021-10-13T08:01:45.460145Z",
     "start_time": "2021-10-13T07:58:11.598006Z"
    }
   },
   "outputs": [
    {
     "name": "stdout",
     "output_type": "stream",
     "text": [
      "Eps: 1.0\n"
     ]
    },
    {
     "data": {
      "image/png": "[encoded data removed]",
      "text/plain": [
       "<Figure size 432x288 with 1 Axes>"
      ]
     },
     "metadata": {
      "needs_background": "light"
     },
     "output_type": "display_data"
    },
    {
     "data": {
      "application/vnd.jupyter.widget-view+json": {
       "model_id": "d4051d928f4d4a60a49f6c13b098ccd5",
       "version_major": 2,
       "version_minor": 0
      },
      "text/plain": [
       "  0%|          | 0/9999 [00:00<?, ?it/s]"
      ]
     },
     "metadata": {},
     "output_type": "display_data"
    },
    {
     "data": {
      "application/vnd.jupyter.widget-view+json": {
       "model_id": "5ecf368edbfa44ceab9187e0f8b45789",
       "version_major": 2,
       "version_minor": 0
      },
      "text/plain": [
       "  0%|          | 0/2000 [00:00<?, ?it/s]"
      ]
     },
     "metadata": {},
     "output_type": "display_data"
    },
    {
     "name": "stdout",
     "output_type": "stream",
     "text": [
      "Done!\n"
     ]
    }
   ],
   "source": [
    "deltaT = 0.0001 \n",
    "deltaX = 0.01\n",
    "\n",
    "tMin = 0\n",
    "tMax = 1\n",
    "\n",
    "xMin = 0\n",
    "xMax = 1\n",
    "\n",
    "Nt = int(tMax/deltaT)  # Temporal steps\n",
    "Nx = int(xMax/deltaX)  # Spatial steps\n",
    "\n",
    "t = np.linspace(tMin, tMax, num=Nt, endpoint=True)\n",
    "x = np.linspace(xMin, xMax, num=Nx, endpoint=True)\n",
    "\n",
    "# Compute Secondary variables\n",
    "c = 100\n",
    "eps = (deltaT*c / deltaX)**2\n",
    "# Error propagates if eps > 1. Make sure dT,dX,c do not produce eps > 1\n",
    "print('Eps:',eps) \n",
    "\n",
    "U = np.zeros((Nt, Nx), dtype=np.longdouble)\n",
    "dUx0 = 0. # Cause partial differential of t of U(x,0) is 0\n",
    "\n",
    "# Compute U(j=0). We will compute U(j>0) later in the iteration below.\n",
    "U[0, :] = np.exp(-100. * (x - 0.5)**2)\n",
    "\n",
    "# Plot Initial Condition\n",
    "plt.plot(x, U[0, :])\n",
    "plt.grid()\n",
    "plt.title(\"Initial Condition\")\n",
    "plt.show()\n",
    "\n",
    "# Iterate to the matrix u\n",
    "for j in trange(Nt-1):\n",
    "    for i in range(Nx):\n",
    "        # Check boundary conditions\n",
    "        if i == 0 or i == Nx-1:\n",
    "            U[j+1][i] = 0\n",
    "        elif j == 0:  # we calculate U(j=1) from U(j=0).\n",
    "            U_ip1 = U[0][i+1]\n",
    "            U_im1 = U[0][i-1]\n",
    "            U_ij = U[0][i]\n",
    "\n",
    "            U[1][i] = 0.5*eps*(U_ip1 + U_im1)+(1. - eps)*U_ij + deltaT*dUx0\n",
    "        else:  # we then calculate U(j+1) from U(j)\n",
    "            U_ip1 = U[j][i+1]\n",
    "            U_im1 = U[j][i-1]\n",
    "            U_ij = U[j][i]\n",
    "            U_jm1 = U[j-1][i]\n",
    "\n",
    "            U[j+1][i] = eps*(U_ip1 + U_im1) + 2.*(1. - eps)*U_ij - U_jm1\n",
    "frames = []\n",
    "for i in trange(0, Nt, 5):\n",
    "    plt.plot(x, U[i, :])\n",
    "    plt.ylim(-1, 1)\n",
    "    plt.grid()\n",
    "\n",
    "    # make frame\n",
    "    frame = f'{i}.png'\n",
    "    frames.append(frame)\n",
    "    # save frame\n",
    "    plt.savefig(frame)\n",
    "    plt.close()\n",
    "\n",
    "with imageio.get_writer('wave-refactor-ans.gif', mode='I') as writer:\n",
    "    for frame in frames:\n",
    "        image = imageio.imread(frame)\n",
    "        writer.append_data(image)\n",
    "\n",
    "# Remove files\n",
    "for filename in set(frames):\n",
    "    os.remove(filename)\n",
    "print(\"Done!\")"
   ]
  },
  {
   "cell_type": "code",
   "execution_count": 35,
   "metadata": {
    "ExecuteTime": {
     "end_time": "2021-10-13T08:01:45.467047Z",
     "start_time": "2021-10-13T08:01:45.462303Z"
    }
   },
   "outputs": [
    {
     "data": {
      "text/html": [
       "<img src=\"wave-refactor-ans.gif\">\n"
      ],
      "text/plain": [
       "<IPython.core.display.HTML object>"
      ]
     },
     "metadata": {},
     "output_type": "display_data"
    }
   ],
   "source": [
    "%%HTML\n",
    "<img src=\"wave-refactor-ans.gif\">"
   ]
  },
  {
   "cell_type": "markdown",
   "metadata": {},
   "source": [
    "---\n",
    "**Exercise 2:** \n",
    "\n",
    "Try the same problem as **Exercise 1** but use $u(x, 0) = 0$ for all $x$ as initial condition.\n",
    "\n",
    "The boundary condition at $x = 0$ is the **feeding wave into the string condition**, which is given by: \n",
    "\n",
    "$$u(0, t) = \\left\\lbrace\\begin{array}{ll}\n",
    "2\\sin(8\\pi t),& t\\in {[0, \\frac{1}{4}]}\\\\\n",
    "0,& \\hbox{otherwise}\n",
    "\\end{array}\\right.$$\n",
    "\n",
    "and the boundary condition on the other end, $x = L$ is an **open boundary condition**.\n",
    "\n",
    "Plot a time-animated graph to demonstrate this."
   ]
  },
  {
   "cell_type": "markdown",
   "metadata": {},
   "source": [
    "Let $P(x_i, t_j) = u(x_i, t_j)$, $P_{j+1}=P_{i, j+1}$, $P=P_{i, j}$,\n",
    "$P_{j-1}=P_{i, j-1}$, $P_{i+1}=P_{i+1, j}$ and $P_{i-1}=P_{i-1, j}$\n",
    "\n",
    "We know,\n",
    "$$\n",
    "\\frac{P_{j+1}-2P+P_{j-1}}{\\delta^2} = c^2 \\frac{P_{i+1} -2P + P_{i-1}}{h^2}\n",
    "$$\n",
    "for us to find the next spatial step we need $P_{i+1}$ hence we get:\n",
    "\n",
    "$$\n",
    "P_{i+1} = \\frac{h^2}{c^2 t^2}(P_{j+1} - 2P + P_{j-1}) + 2P - P_{i-1}\n",
    "$$\n"
   ]
  },
  {
   "cell_type": "code",
   "execution_count": 42,
   "metadata": {
    "ExecuteTime": {
     "end_time": "2021-10-13T08:10:51.617960Z",
     "start_time": "2021-10-13T08:10:50.057168Z"
    }
   },
   "outputs": [
    {
     "name": "stdout",
     "output_type": "stream",
     "text": [
      "Eps: 1.0\n",
      "Coeff: 1.0000000000000001e-16\n"
     ]
    },
    {
     "data": {
      "image/png": "[encoded data removed]",
      "text/plain": [
       "<Figure size 432x288 with 1 Axes>"
      ]
     },
     "metadata": {
      "needs_background": "light"
     },
     "output_type": "display_data"
    },
    {
     "data": {
      "application/vnd.jupyter.widget-view+json": {
       "model_id": "04ee8d7523214c7f815a29efd11825b4",
       "version_major": 2,
       "version_minor": 0
      },
      "text/plain": [
       "  0%|          | 0/24 [00:00<?, ?it/s]"
      ]
     },
     "metadata": {},
     "output_type": "display_data"
    },
    {
     "data": {
      "application/vnd.jupyter.widget-view+json": {
       "model_id": "a761a8c67093418db32fe0bf564f8b77",
       "version_major": 2,
       "version_minor": 0
      },
      "text/plain": [
       "  0%|          | 0/13 [00:00<?, ?it/s]"
      ]
     },
     "metadata": {},
     "output_type": "display_data"
    },
    {
     "name": "stdout",
     "output_type": "stream",
     "text": [
      "Done!\n"
     ]
    }
   ],
   "source": [
    "deltaT = 0.0001 \n",
    "deltaX = 0.01\n",
    "\n",
    "tMin = 0\n",
    "tMax = 0.25\n",
    "\n",
    "xMin = 0\n",
    "xMax = 0.25\n",
    "\n",
    "Nt = int(tMax/deltaT)  # Temporal steps\n",
    "Nx = int(xMax/deltaX)  # Spatial steps\n",
    "\n",
    "t = np.linspace(tMin, tMax, num=Nt, endpoint=True)\n",
    "x = np.linspace(xMin, xMax, num=Nx, endpoint=True)\n",
    "\n",
    "# Compute Secondary variables\n",
    "c = 100\n",
    "eps = (deltaT*c / deltaX)**2\n",
    "# Error propagates if eps > 1. Make sure dT,dX,c do not produce eps > 1\n",
    "print('Eps:',eps) \n",
    "\n",
    "U = np.zeros((Nt, Nx), dtype=np.longdouble)\n",
    "dUx0 = 0. # Cause partial differential of t of U(x,0) is 0\n",
    "\n",
    "# Compute U(j=0). We will compute U(j>0) later in the iteration below.\n",
    "U[0, :] = 2*np.sin(8*np.pi*t)\n",
    "\n",
    "# Plot Initial Condition\n",
    "plt.plot(x, U[0, :])\n",
    "plt.grid()\n",
    "plt.title(\"Initial Condition\")\n",
    "plt.show()\n",
    "\n",
    "# Iterate to the matrix u\n",
    "for j in trange(Nt-1):\n",
    "    for i in range(Nx):\n",
    "        # Check boundary conditions\n",
    "        if i == 0 or i == Nx-1:\n",
    "            U[j+1][i] = 0\n",
    "        elif j == 0:  # we calculate U(j=1) from U(j=0).\n",
    "            U_ip1 = U[0][i+1]\n",
    "            U_im1 = U[0][i-1]\n",
    "            U_ij = U[0][i]\n",
    "\n",
    "            U[1][i] = 0.5*eps*(U_ip1 + U_im1)+(1. - eps)*U_ij + deltaT*dUx0\n",
    "        else:  # we then calculate U(j+1) from U(j)\n",
    "            U_ip1 = U[j][i+1]\n",
    "            U_im1 = U[j][i-1]\n",
    "            U_ij = U[j][i]\n",
    "            U_jm1 = U[j-1][i]\n",
    "\n",
    "            U[j+1][i] = eps*(U_ip1 + U_im1) + 2.*(1. - eps)*U_ij - U_jm1\n",
    "frames = []\n",
    "for i in trange(0, Nt, 5):\n",
    "    plt.plot(x, U[i, :])\n",
    "    plt.ylim(-1, 1)\n",
    "    plt.grid()\n",
    "\n",
    "    # make frame\n",
    "    frame = f'{i}.png'\n",
    "    frames.append(frame)\n",
    "    # save frame\n",
    "    plt.savefig(frame)\n",
    "    plt.close()\n",
    "\n",
    "with imageio.get_writer('wave-refactor-ans.gif', mode='I') as writer:\n",
    "    for frame in frames:\n",
    "        image = imageio.imread(frame)\n",
    "        writer.append_data(image)\n",
    "\n",
    "# Remove files\n",
    "for filename in set(frames):\n",
    "    os.remove(filename)\n",
    "print(\"Done!\")"
   ]
  },
  {
   "cell_type": "code",
   "execution_count": 22,
   "metadata": {
    "ExecuteTime": {
     "end_time": "2021-10-13T07:38:31.719397Z",
     "start_time": "2021-10-13T07:38:31.715375Z"
    }
   },
   "outputs": [
    {
     "data": {
      "text/html": [
       "<img src=\"open-bound-ans.gif\">\n"
      ],
      "text/plain": [
       "<IPython.core.display.HTML object>"
      ]
     },
     "metadata": {},
     "output_type": "display_data"
    }
   ],
   "source": [
    "%%HTML\n",
    "<img src=\"open-bound-ans.gif\">"
   ]
  },
  {
   "cell_type": "code",
   "execution_count": 44,
   "metadata": {
    "ExecuteTime": {
     "end_time": "2021-10-13T08:11:05.053513Z",
     "start_time": "2021-10-13T08:11:04.909420Z"
    }
   },
   "outputs": [
    {
     "data": {
      "text/plain": [
       "[<matplotlib.lines.Line2D at 0x7f7109aacc10>]"
      ]
     },
     "execution_count": 44,
     "metadata": {},
     "output_type": "execute_result"
    },
    {
     "data": {
      "image/png": "[encoded data removed]",
      "text/plain": [
       "<Figure size 432x288 with 1 Axes>"
      ]
     },
     "metadata": {
      "needs_background": "light"
     },
     "output_type": "display_data"
    }
   ],
   "source": [
    "plt.plot(t, U[0, :])\n",
    "plt.plot(t, U[1, :])\n",
    "plt.plot(t, U[2, :])"
   ]
  }
 ],
 "metadata": {
  "kernelspec": {
   "display_name": "Python 3 (ipykernel)",
   "language": "python",
   "name": "python3"
  },
  "language_info": {
   "codemirror_mode": {
    "name": "ipython",
    "version": 3
   },
   "file_extension": ".py",
   "mimetype": "text/x-python",
   "name": "python",
   "nbconvert_exporter": "python",
   "pygments_lexer": "ipython3",
   "version": "3.8.10"
  },
  "toc": {
   "base_numbering": 1,
   "nav_menu": {},
   "number_sections": true,
   "sideBar": true,
   "skip_h1_title": false,
   "title_cell": "Table of Contents",
   "title_sidebar": "Contents",
   "toc_cell": false,
   "toc_position": {},
   "toc_section_display": true,
   "toc_window_display": false
  }
 },
 "nbformat": 4,
 "nbformat_minor": 1
}
