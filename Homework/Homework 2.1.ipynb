{
 "cells": [
  {
   "cell_type": "markdown",
   "metadata": {
    "collapsed": true
   },
   "source": [
    "### Homework 2.1.1 - 1D Wave\n",
    "\n",
    "Solve the wave equation\n",
    "\n",
    "$$\\frac{{{\\partial ^2}u}}{{\\partial {t^2}}} = c^2 \\frac{{{\\partial ^2}u}}{{\\partial {x^2}}}$$\n",
    "\n",
    "subjected to the **feeding wave boundary condition** at $x = 0$,\n",
    "\n",
    "$$u(0, t) = 2\\sin(\\omega t)$$\n",
    "\n",
    "and the boundary condition on the other end, $x = L$ is an **open boundary condition**.\n",
    "\n",
    "where $L = 1$ and the initial condition at $t=0$ is:\n",
    "\n",
    "$$u(x, 0) = 0$$\n",
    "\n",
    "You choose appropreate values of **the speed ($c$)** and **the frequency ($\\omega$)** to make a nice time-animated graph video clip."
   ]
  },
  {
   "cell_type": "code",
   "execution_count": 3,
   "metadata": {
    "ExecuteTime": {
     "end_time": "2021-10-15T06:39:06.085111Z",
     "start_time": "2021-10-15T06:39:06.072835Z"
    }
   },
   "outputs": [],
   "source": [
    "import numpy as np\n",
    "import matplotlib.pyplot as plt\n",
    "from tqdm.notebook import trange, tqdm\n",
    "import imageio\n",
    "import os"
   ]
  },
  {
   "cell_type": "code",
   "execution_count": 4,
   "metadata": {
    "ExecuteTime": {
     "end_time": "2021-10-15T06:41:01.781266Z",
     "start_time": "2021-10-15T06:39:06.751962Z"
    }
   },
   "outputs": [
    {
     "name": "stdout",
     "output_type": "stream",
     "text": [
      "Eps: 0.0001\n"
     ]
    },
    {
     "data": {
      "application/vnd.jupyter.widget-view+json": {
       "model_id": "09bb10082dfb48e7b2c0bb31b23ae6f6",
       "version_major": 2,
       "version_minor": 0
      },
      "text/plain": [
       "  0%|          | 0/99998 [00:00<?, ?it/s]"
      ]
     },
     "metadata": {},
     "output_type": "display_data"
    },
    {
     "data": {
      "application/vnd.jupyter.widget-view+json": {
       "model_id": "f65e2955f27649cba88f668418f4eddc",
       "version_major": 2,
       "version_minor": 0
      },
      "text/plain": [
       "  0%|          | 0/1000 [00:00<?, ?it/s]"
      ]
     },
     "metadata": {},
     "output_type": "display_data"
    },
    {
     "name": "stdout",
     "output_type": "stream",
     "text": [
      "Done!\n"
     ]
    }
   ],
   "source": [
    "deltaT = 0.0001\n",
    "deltaX = 0.01\n",
    "\n",
    "tMin = 0\n",
    "tMax = 10\n",
    "\n",
    "xMin = 0\n",
    "xMax = 1\n",
    "\n",
    "Nt = int(tMax/deltaT)  # Temporal steps\n",
    "Nx = int(xMax/deltaX)  # Spatial steps\n",
    "\n",
    "t = np.linspace(tMin, tMax, num=Nt, endpoint=True)\n",
    "x = np.linspace(xMin, xMax, num=Nx, endpoint=True)\n",
    "\n",
    "# Compute Secondary variables\n",
    "c = 1\n",
    "omega = 20\n",
    "h = xMax / Nx\n",
    "eps = (deltaT*c / h)**2\n",
    "# Error propagates if eps > 1. Make sure dT,dX,c do not produce eps > 1\n",
    "print('Eps:', eps)\n",
    "\n",
    "U = np.zeros((Nx, Nt), dtype=np.longdouble)\n",
    "\n",
    "# Compute U(j=0). We will compute U(j>0) later in the iteration below.\n",
    "U[0][1] = 2*np.sin(omega*1*deltaT)\n",
    "\n",
    "# Iterate to the matrix u\n",
    "for j in trange(1, Nt-1):\n",
    "    U[0][j+1] = 2*np.sin(omega*(j+1)*deltaT)\n",
    "    U[-1][j+1] = U[-1][j] - c*(U[-1][j] - U[-2][j])\n",
    "\n",
    "    for i in range(1, Nx-1):\n",
    "        U_ip1 = U[i+1][j]\n",
    "        U_im1 = U[i-1][j]\n",
    "        U_ij = U[i][j]\n",
    "        U_jm1 = U[i][j-1]\n",
    "\n",
    "        U[i][j+1] = eps*(U_ip1 + U_im1) + 2.*(1. - eps)*U_ij - U_jm1\n",
    "\n",
    "frames = []\n",
    "for i in trange(0, Nt, 100):\n",
    "    plt.plot(x, U[:, i])\n",
    "    plt.ylim(-5, 5)\n",
    "    plt.grid()\n",
    "\n",
    "    # make frame\n",
    "    frame = f'{i}.png'\n",
    "    frames.append(frame)\n",
    "    # save frame\n",
    "    plt.savefig(frame)\n",
    "    plt.close()\n",
    "\n",
    "with imageio.get_writer('feed-wave-2-1-1.gif', mode='I') as writer:\n",
    "    for frame in frames:\n",
    "        image = imageio.imread(frame)\n",
    "        writer.append_data(image)\n",
    "\n",
    "# Remove files\n",
    "for filename in set(frames):\n",
    "    os.remove(filename)\n",
    "print(\"Done!\")"
   ]
  },
  {
   "cell_type": "code",
   "execution_count": 5,
   "metadata": {
    "ExecuteTime": {
     "end_time": "2021-10-15T06:41:05.129635Z",
     "start_time": "2021-10-15T06:41:05.115664Z"
    }
   },
   "outputs": [
    {
     "data": {
      "text/html": [
       "<img src=\"feed-wave-2-1-1-ans.gif\">\n"
      ],
      "text/plain": [
       "<IPython.core.display.HTML object>"
      ]
     },
     "metadata": {},
     "output_type": "display_data"
    }
   ],
   "source": [
    "%%HTML\n",
    "<img src=\"feed-wave-2-1-1-ans.gif\">"
   ]
  },
  {
   "cell_type": "markdown",
   "metadata": {
    "collapsed": true
   },
   "source": [
    "___\n",
    "### Homework 2.1.2 - 1D Wave with damping\n",
    "\n",
    "Solve the wave equation\n",
    "\n",
    "$$\\frac{\\partial^2 u}{\\partial t^2} = c^2 \\frac{\\partial^2 u}{\\partial x^2} - k \\frac{\\partial u}{\\partial t}$$\n",
    "\n",
    "subjected to the **feeding wave boundary condition** at $x = 0$,\n",
    "\n",
    "$$u(0, t) = 2\\sin(\\omega t)$$\n",
    "\n",
    "and the boundary condition on the other end, $x = L$ is an **open boundary condition**.\n",
    "\n",
    "where $L = 1$ and the initial condition at $t=0$ is:\n",
    "\n",
    "$$u(x, 0) = 0$$\n",
    "\n",
    "You choose appropreate values of **the speed ($c$)**, **the frequency ($\\omega$)**, and **the damping factor ($k$)** to make a nice time-animated graph video clip."
   ]
  },
  {
   "cell_type": "markdown",
   "metadata": {},
   "source": [
    "$$\n",
    "\\begin{align}\n",
    "\\frac{\\partial^2 P}{\\partial t^2} &= c^2 \\frac{\\partial^2 P}{\\partial x^2} - k \\frac{\\partial P}{\\partial t} \\\\\n",
    "\\frac{P_{j+1} + 2P + P_{j-1}}{dt^2} &=\n",
    "\\frac{c^2(P_{i+1}+2P+P_{i-1})}{h^2} -\n",
    "\\frac{k(P_{j+1}-P_{j-1})}{2dt} \\\\\n",
    "\\frac{P_{j+1} + 2P + P_{j-1}}{dt^2} &=\n",
    "\\frac{2dt\\cdot c^2(P_{i+1}+2P+P_{i-1})-h^2 \\cdot k(P_{j+1}-P_{j-1}}{2dt \\cdot h^2} \\\\\n",
    "\\frac{P_{j+1} + 2P + P_{j-1}}{dt} &=\n",
    "\\frac{2dt\\cdot c^2(P_{i+1}+2P+P_{i-1})-h^2 \\cdot k(P_{j+1}-P_{j-1}}{2 \\cdot h^2} \\\\\n",
    "2h^2P_{j+1} + 4h^2P + 2h^2P_{j-1} &=\n",
    "2dt^2c^2P_{i+1}+4dt^2c^2P+2dt^2c^2P_{i-1} - kdth^2P_{j+1}+kdth^2P_{j-1} \\\\\n",
    "(2h^2+kdth^2)P_{j+1} &=\n",
    "2dt^2c^2(P_{i+1}+P_{i-1})+(dt^2c^2-h^2)4P+(kdt-2)h^2P_{j-1} \\\\\n",
    "P_{j+1} &= \\frac{2dt^2c^2(P_{i+1}+P_{i-1})+(dt^2c^2-h^2)4P+(kdt-2)h^2P_{j-1}}{2h^2+kdth^2}\n",
    "\\end{align}\n",
    "$$\n",
    "\n",
    "Hence our $U_{i, j+1}$ is:\n",
    "$$\n",
    "U_{i,j+1} = \\frac{2\\delta^2c^2(U_{i+1,j}+U_{i-1,j})+(\\delta^2c^2-h^2)4U_{i,j} +\n",
    "(k\\delta-2)h^2U_{i,j-1}}{2h^2+k\\delta h^2}\n",
    "$$"
   ]
  },
  {
   "cell_type": "code",
   "execution_count": 6,
   "metadata": {
    "ExecuteTime": {
     "end_time": "2021-10-15T06:45:05.201695Z",
     "start_time": "2021-10-15T06:41:07.233809Z"
    }
   },
   "outputs": [
    {
     "data": {
      "application/vnd.jupyter.widget-view+json": {
       "model_id": "2e9c58d818c940a6963736704045e05c",
       "version_major": 2,
       "version_minor": 0
      },
      "text/plain": [
       "  0%|          | 0/99998 [00:00<?, ?it/s]"
      ]
     },
     "metadata": {},
     "output_type": "display_data"
    },
    {
     "data": {
      "application/vnd.jupyter.widget-view+json": {
       "model_id": "db823216353146b5a9a0566eb8281ec2",
       "version_major": 2,
       "version_minor": 0
      },
      "text/plain": [
       "  0%|          | 0/2000 [00:00<?, ?it/s]"
      ]
     },
     "metadata": {},
     "output_type": "display_data"
    },
    {
     "name": "stdout",
     "output_type": "stream",
     "text": [
      "Done!\n"
     ]
    }
   ],
   "source": [
    "deltaT = 0.0001\n",
    "deltaX = 0.01\n",
    "\n",
    "tMin = 0\n",
    "tMax = 10\n",
    "\n",
    "xMin = 0\n",
    "xMax = 1\n",
    "\n",
    "Nt = int(tMax/deltaT)  # Temporal steps\n",
    "Nx = int(xMax/deltaX)  # Spatial steps\n",
    "\n",
    "t = np.linspace(tMin, tMax, num=Nt, endpoint=True)\n",
    "x = np.linspace(xMin, xMax, num=Nx, endpoint=True)\n",
    "\n",
    "# Compute Secondary variables\n",
    "c = 1\n",
    "k = 2\n",
    "omega = 10\n",
    "h = xMax / Nx\n",
    "coeff1 = 2*(deltaT**2)*(c**2)\n",
    "coeff2 = (deltaT**2)*(c**2) - h**2\n",
    "coeff3 = k*deltaT - 2\n",
    "denorm = 2*(h**2) + k*deltaT*(h**2)\n",
    "\n",
    "\n",
    "U = np.zeros((Nx, Nt), dtype=np.longdouble)\n",
    "\n",
    "# Compute U at temporal 1 and Spatial 0\n",
    "U[0][1] = 2*np.sin(omega*1*deltaT)\n",
    "\n",
    "# Iterate to the matrix u\n",
    "for j in trange(1, Nt-1):\n",
    "    U[0][j+1] = 2*np.sin(omega*(j+1)*deltaT)\n",
    "    U[-1][j+1] = U[-1][j] - c*(U[-1][j] - U[-2][j])\n",
    "\n",
    "    for i in range(1, Nx-1):\n",
    "        U_ip1 = U[i+1][j]\n",
    "        U_im1 = U[i-1][j]\n",
    "        U_ij = U[i][j]\n",
    "        U_jm1 = U[i][j-1]\n",
    "\n",
    "        first = coeff1 * (U_ip1 - U_im1)\n",
    "        middle = coeff2 * 4 * U_ij\n",
    "        last = coeff3 * h**2 * U_jm1\n",
    "        norm = first + middle + last\n",
    "\n",
    "        U[i][j+1] = norm / denorm\n",
    "\n",
    "frames = []\n",
    "for i in trange(0, Nt, 50):\n",
    "    plt.plot(x, U[:, i])\n",
    "    plt.grid()\n",
    "\n",
    "    # make frame\n",
    "    frame = f'{i}.png'\n",
    "    frames.append(frame)\n",
    "    # save frame\n",
    "    plt.savefig(frame)\n",
    "    plt.close()\n",
    "\n",
    "with imageio.get_writer('feed-wave-2-1-2.gif', mode='I') as writer:\n",
    "    for frame in frames:\n",
    "        image = imageio.imread(frame)\n",
    "        writer.append_data(image)\n",
    "\n",
    "# Remove files\n",
    "for filename in set(frames):\n",
    "    os.remove(filename)\n",
    "print(\"Done!\")"
   ]
  },
  {
   "cell_type": "code",
   "execution_count": 7,
   "metadata": {
    "ExecuteTime": {
     "end_time": "2021-10-15T06:45:05.209187Z",
     "start_time": "2021-10-15T06:45:05.203454Z"
    }
   },
   "outputs": [
    {
     "data": {
      "text/html": [
       "<img src=\"feed-wave-2-1-2-ans.gif\">\n"
      ],
      "text/plain": [
       "<IPython.core.display.HTML object>"
      ]
     },
     "metadata": {},
     "output_type": "display_data"
    }
   ],
   "source": [
    "%%HTML\n",
    "<img src=\"feed-wave-2-1-2-ans.gif\">"
   ]
  }
 ],
 "metadata": {
  "kernelspec": {
   "display_name": "Python 3 (ipykernel)",
   "language": "python",
   "name": "python3"
  },
  "language_info": {
   "codemirror_mode": {
    "name": "ipython",
    "version": 3
   },
   "file_extension": ".py",
   "mimetype": "text/x-python",
   "name": "python",
   "nbconvert_exporter": "python",
   "pygments_lexer": "ipython3",
   "version": "3.8.10"
  },
  "toc": {
   "base_numbering": 1,
   "nav_menu": {},
   "number_sections": true,
   "sideBar": true,
   "skip_h1_title": false,
   "title_cell": "Table of Contents",
   "title_sidebar": "Contents",
   "toc_cell": false,
   "toc_position": {},
   "toc_section_display": true,
   "toc_window_display": false
  }
 },
 "nbformat": 4,
 "nbformat_minor": 1
}
