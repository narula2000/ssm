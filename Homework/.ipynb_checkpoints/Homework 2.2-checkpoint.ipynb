{
 "cells": [
  {
   "cell_type": "markdown",
   "id": "cc75b182",
   "metadata": {},
   "source": [
    "### Homework 2.2 - Heat Transfer\n",
    "\n",
    "Use the finite differential method to solve a heat transfer equation, given by\n",
    "\n",
    "$$ \\frac{{\\partial T}}{{\\partial t}} = k\\frac{{{\\partial ^2}T}}{{\\partial {x^2}}} $$\n",
    "\n",
    "where $T(t, x)$ is the temperature distribution function.\n",
    "\n",
    "Solve the equation for $x$ between 0 and 1. At $x=0$ the temperature varies as $T(t,0)=sin(10t)$ and at At $x=1$ the temperature varies as $T(t,0)=e^{ - 100 (t - 0.15)^2}$.\n",
    "\n",
    "Make the animated clip of the temperature distribution function evolution. Pick appropriate time range."
   ]
  },
  {
   "cell_type": "markdown",
   "id": "eba7e721",
   "metadata": {},
   "source": [
    "$$\n",
    "\\begin{align}\n",
    "\\frac{{\\partial T}}{{\\partial t}} &=\n",
    "k \\frac{{{\\partial ^2}T}}{{\\partial {x^2}}} \\\\\n",
    "\\frac{T_{j+1} - T}{n} &=\n",
    "k \\frac{T_{i+1}-2T+T_{i+1}}{\\delta^2} \\\\\n",
    "\\delta^2 T_{j+1} &=\n",
    "(kn)T_{i+1}-(2nk)T+(\\delta^2)T+(kn)T_{i-1} \\\\\n",
    "T_{j+1} &=\n",
    "\\frac{kn}{\\delta^2}(T_{i+1}+T_{i-1})-\\frac{2kn}{\\delta^2}T+T \\\\\n",
    "T_{j+1} &=\n",
    "\\frac{kn}{\\delta^2}(T_{i+1}-2T+T_{i-1})+T\n",
    "\\end{align}\n",
    "$$\n",
    "Hence we get:\n",
    "$$\n",
    "T_{i,j+1} =\n",
    "\\frac{kn}{\\delta^2}(T_{i+1,j}-2T_{i,j}+T_{i-1,j})+T_{i,j}\n",
    "$$\n"
   ]
  },
  {
   "cell_type": "code",
   "execution_count": 20,
   "id": "0f9239be",
   "metadata": {
    "ExecuteTime": {
     "end_time": "2021-10-15T06:38:32.667815Z",
     "start_time": "2021-10-15T06:38:32.665365Z"
    }
   },
   "outputs": [],
   "source": [
    "import numpy as np\n",
    "import matplotlib.pyplot as plt\n",
    "from tqdm.notebook import trange, tqdm\n",
    "import imageio\n",
    "import os"
   ]
  },
  {
   "cell_type": "code",
   "execution_count": 21,
   "id": "3741ef1f",
   "metadata": {
    "ExecuteTime": {
     "end_time": "2021-10-15T06:38:44.782131Z",
     "start_time": "2021-10-15T06:38:33.248223Z"
    }
   },
   "outputs": [
    {
     "name": "stdout",
     "output_type": "stream",
     "text": [
      "Eps: 0.04999999999999999\n"
     ]
    },
    {
     "data": {
      "application/vnd.jupyter.widget-view+json": {
       "model_id": "2fa9af242fb6438ba1a089c3ed658537",
       "version_major": 2,
       "version_minor": 0
      },
      "text/plain": [
       "  0%|          | 0/9998 [00:00<?, ?it/s]"
      ]
     },
     "metadata": {},
     "output_type": "display_data"
    },
    {
     "data": {
      "application/vnd.jupyter.widget-view+json": {
       "model_id": "774108a181764b37b4f956ad1c970e55",
       "version_major": 2,
       "version_minor": 0
      },
      "text/plain": [
       "  0%|          | 0/100 [00:00<?, ?it/s]"
      ]
     },
     "metadata": {},
     "output_type": "display_data"
    },
    {
     "name": "stdout",
     "output_type": "stream",
     "text": [
      "Done!\n"
     ]
    }
   ],
   "source": [
    "deltaT = 0.001\n",
    "deltaX = 0.1\n",
    "\n",
    "tMin = 0\n",
    "tMax = 10\n",
    "\n",
    "xMin = 0\n",
    "xMax = 1\n",
    "\n",
    "Nt = int(tMax/deltaT)  # Temporal steps\n",
    "Nx = int(xMax/deltaX)  # Spatial steps\n",
    "\n",
    "t = np.linspace(tMin, tMax, num=Nt, endpoint=True)\n",
    "x = np.linspace(xMin, xMax, num=Nx, endpoint=True)\n",
    "\n",
    "# Compute Secondary variables\n",
    "k = 0.5\n",
    "n = deltaT\n",
    "h = xMax / Nx\n",
    "eps = k * n / deltaX**2\n",
    "# Error propagates if eps > 1. Make sure dT,dX,c do not produce eps > 1\n",
    "print('Eps:', eps)\n",
    "\n",
    "U = np.zeros((Nx, Nt), dtype=np.longdouble)\n",
    "\n",
    "U[0][1]  = np.sin(10*1*deltaT)\n",
    "U[-1][0] = np.exp(-100*(0-0.15)**2)\n",
    "U[-1][1] = np.exp(-100*(1*deltaT-0.15)**2)\n",
    "\n",
    "# Iterate to the matrix u\n",
    "for j in trange(1, Nt-1):\n",
    "    U[0][j+1] = np.sin(10*(j+1)*deltaT)\n",
    "    U[-1][j+1] = np.exp(-100*((j+1)*deltaT-0.15)**2)\n",
    "\n",
    "    for i in range(1, Nx-1):\n",
    "        U_ip1 = U[i+1][j]\n",
    "        U_im1 = U[i-1][j]\n",
    "        U_ij = U[i][j]\n",
    "        U_jm1 = U[i][j-1]\n",
    "\n",
    "        U[i][j+1] = eps*(U_ip1 + -2*U_ij + U_im1) + U_ij\n",
    "\n",
    "frames = []\n",
    "for i in trange(0, Nt, 100):\n",
    "    plt.plot(x, U[:, i])\n",
    "    plt.ylim(-2,2)\n",
    "    plt.grid()\n",
    "\n",
    "    # make frame\n",
    "    frame = f'{i}.png'\n",
    "    frames.append(frame)\n",
    "    # save frame\n",
    "    plt.savefig(frame)\n",
    "    plt.close()\n",
    "\n",
    "with imageio.get_writer('feed-wave-2-2.gif', mode='I') as writer:\n",
    "    for frame in frames:\n",
    "        image = imageio.imread(frame)\n",
    "        writer.append_data(image)\n",
    "\n",
    "# Remove files\n",
    "for filename in set(frames):\n",
    "    os.remove(filename)\n",
    "print(\"Done!\")"
   ]
  },
  {
   "cell_type": "code",
   "execution_count": 2,
   "id": "6092e215",
   "metadata": {
    "ExecuteTime": {
     "end_time": "2021-10-16T06:23:49.264693Z",
     "start_time": "2021-10-16T06:23:49.261293Z"
    }
   },
   "outputs": [
    {
     "data": {
      "text/html": [
       "<img src=\"feed-wave-2-2-ans.gif\">\n"
      ],
      "text/plain": [
       "<IPython.core.display.HTML object>"
      ]
     },
     "metadata": {},
     "output_type": "display_data"
    }
   ],
   "source": [
    "%%HTML\n",
    "<img src=\"feed-wave-2-2-ans.gif\">"
   ]
  }
 ],
 "metadata": {
  "kernelspec": {
   "display_name": "Python 3 (ipykernel)",
   "language": "python",
   "name": "python3"
  },
  "language_info": {
   "codemirror_mode": {
    "name": "ipython",
    "version": 3
   },
   "file_extension": ".py",
   "mimetype": "text/x-python",
   "name": "python",
   "nbconvert_exporter": "python",
   "pygments_lexer": "ipython3",
   "version": "3.8.10"
  },
  "toc": {
   "base_numbering": 1,
   "nav_menu": {},
   "number_sections": true,
   "sideBar": true,
   "skip_h1_title": false,
   "title_cell": "Table of Contents",
   "title_sidebar": "Contents",
   "toc_cell": false,
   "toc_position": {},
   "toc_section_display": true,
   "toc_window_display": false
  }
 },
 "nbformat": 4,
 "nbformat_minor": 5
}
