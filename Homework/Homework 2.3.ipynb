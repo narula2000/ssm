{
 "cells": [
  {
   "cell_type": "markdown",
   "id": "6b72e040",
   "metadata": {},
   "source": [
    "### Homework 2.3 - 2D Temperature Distribution\n",
    "\n",
    "Solve 2D heat equation for the following initial conditions:\n",
    "\n",
    "$$\\begin{array}{l}\n",
    "u(x,0) = \\sin (2\\pi x)\\\\\n",
    "u(x,1) = \\sin (2\\pi x)\\\\\n",
    "u(0,y) = \\sin (3\\pi y)\\\\\n",
    "u(1,y) = \\sin (\\pi y)\n",
    "\\end{array}$$\n",
    "\n",
    "where $u(x, y)$ represent the steady state temperature distribution on 2D plane.\n",
    " \n",
    "Plot the 2D heat map of the solution."
   ]
  },
  {
   "cell_type": "markdown",
   "id": "67f736b2",
   "metadata": {},
   "source": [
    "$$\n",
    "U_{i,j} = \\frac{1}{4} \\left( U_{i+1,j} + U_{i-1,j} + U_{i, j-1} + U_{i, j-1} \\right)\n",
    "$$"
   ]
  },
  {
   "cell_type": "code",
   "execution_count": 1,
   "id": "378dcefc",
   "metadata": {
    "ExecuteTime": {
     "end_time": "2021-10-16T06:24:13.062631Z",
     "start_time": "2021-10-16T06:24:12.701269Z"
    }
   },
   "outputs": [],
   "source": [
    "import numpy as np\n",
    "import matplotlib.pyplot as plt\n",
    "from tqdm.notebook import trange, tqdm\n",
    "import imageio\n",
    "import os"
   ]
  },
  {
   "cell_type": "code",
   "execution_count": 7,
   "id": "aaa31ffc",
   "metadata": {
    "ExecuteTime": {
     "end_time": "2021-10-16T07:21:49.755283Z",
     "start_time": "2021-10-16T07:21:01.865488Z"
    }
   },
   "outputs": [
    {
     "data": {
      "application/vnd.jupyter.widget-view+json": {
       "model_id": "95f009ffb8cd48c5939f78eb08776fc7",
       "version_major": 2,
       "version_minor": 0
      },
      "text/plain": [
       "  0%|          | 0/56 [00:00<?, ?it/s]"
      ]
     },
     "metadata": {},
     "output_type": "display_data"
    },
    {
     "name": "stdout",
     "output_type": "stream",
     "text": [
      "Done!\n"
     ]
    }
   ],
   "source": [
    "Nx = 100\n",
    "Ny = 100\n",
    "\n",
    "U = np.zeros((Nx, Ny), dtype=np.float64)\n",
    "\n",
    "for i in range(Nx):\n",
    "    U[i][0] = np.sin((2*np.pi*i) / Nx)\n",
    "    U[i][-1] = np.sin((2*np.pi*i) / Nx)\n",
    "for i in range(Ny):\n",
    "    U[0][i] = np.sin((3*np.pi*i) / Ny)\n",
    "    U[-1][i] = np.sin((np.pi*i) / Ny)\n",
    "\n",
    "errs = []\n",
    "frames = []\n",
    "err = 1\n",
    "err_tor = 0.001\n",
    "\n",
    "while err > err_tor:\n",
    "    frame = U.copy()\n",
    "    frames.append(frame)\n",
    "\n",
    "    for i in range(1, Ny-1):\n",
    "        for j in range(1, Nx-1):\n",
    "            U_ip1 = U[j][i+1]\n",
    "            U_im1 = U[j][i-1]\n",
    "            U_jp1 = U[j+1][i]\n",
    "            U_jm1 = U[j-1][i]\n",
    "\n",
    "            U[j][i] = 0.25 * (U_ip1 + U_im1 + U_jp1 + U_jm1)\n",
    "\n",
    "    diff = frame - U\n",
    "    diff = diff.copy()\n",
    "    errs.append(diff)\n",
    "    err = np.linalg.norm(diff)\n",
    "\n",
    "maps = []\n",
    "for i in trange(0, len(frames), 50):\n",
    "    plt.imshow(frames[i], cmap='hot')\n",
    "    plt.colorbar()\n",
    "\n",
    "    # make frame\n",
    "    frame = f'{i}.png'\n",
    "    maps.append(frame)\n",
    "    # save frame\n",
    "    plt.savefig(frame)\n",
    "    plt.close()\n",
    "\n",
    "with imageio.get_writer('feed-wave-2-3.gif', mode='I') as writer:\n",
    "    for frame in maps:\n",
    "        image = imageio.imread(frame)\n",
    "        writer.append_data(image)\n",
    "\n",
    "# Remove files\n",
    "for filename in set(maps):\n",
    "    os.remove(filename)\n",
    "print(\"Done!\")"
   ]
  },
  {
   "cell_type": "code",
   "execution_count": 6,
   "id": "66aa5a3c",
   "metadata": {
    "ExecuteTime": {
     "end_time": "2021-10-16T07:20:49.722038Z",
     "start_time": "2021-10-16T07:20:49.717548Z"
    }
   },
   "outputs": [
    {
     "data": {
      "text/html": [
       "<img src=\"feed-wave-2-3-ans.gif\">\n"
      ],
      "text/plain": [
       "<IPython.core.display.HTML object>"
      ]
     },
     "metadata": {},
     "output_type": "display_data"
    }
   ],
   "source": [
    "%%HTML\n",
    "<img src=\"feed-wave-2-3-ans.gif\">"
   ]
  }
 ],
 "metadata": {
  "kernelspec": {
   "display_name": "Python 3 (ipykernel)",
   "language": "python",
   "name": "python3"
  },
  "language_info": {
   "codemirror_mode": {
    "name": "ipython",
    "version": 3
   },
   "file_extension": ".py",
   "mimetype": "text/x-python",
   "name": "python",
   "nbconvert_exporter": "python",
   "pygments_lexer": "ipython3",
   "version": "3.8.10"
  },
  "toc": {
   "base_numbering": 1,
   "nav_menu": {},
   "number_sections": true,
   "sideBar": true,
   "skip_h1_title": false,
   "title_cell": "Table of Contents",
   "title_sidebar": "Contents",
   "toc_cell": false,
   "toc_position": {},
   "toc_section_display": true,
   "toc_window_display": false
  }
 },
 "nbformat": 4,
 "nbformat_minor": 5
}
